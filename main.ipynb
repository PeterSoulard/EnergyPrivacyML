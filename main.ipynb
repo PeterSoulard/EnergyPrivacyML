{
 "cells": [
  {
   "cell_type": "markdown",
   "id": "f4bdfc8c",
   "metadata": {},
   "source": [
    "The main process consists of:\n",
    "- Start with data that contains personalized information.\n",
    "- Find ML models that can generate synthetic data that accurately represents the original data.\n",
    "- Transform the data so it's legible by the ML model, per ML model.\n",
    "- Start the energy measuring magic machine.\n",
    "- Run the ML model on the transformed data, resulting in synthetic data.\n",
    "- Stop the energy measuring.\n",
    "- From the data, measure the privacy metrics (and the accuracy to the original data?)\n",
    "- From the measurement, read off the energy usage.\n",
    "- To get more results, run again with different subsets of the data.\n",
    "- Compare and contrast."
   ]
  },
  {
   "cell_type": "code",
   "execution_count": null,
   "id": "81105231",
   "metadata": {},
   "outputs": [],
   "source": [
    "import pandas as pd\n",
    "import numpy as np"
   ]
  },
  {
   "cell_type": "markdown",
   "id": "40e14f6e",
   "metadata": {},
   "source": [
    "## The data:"
   ]
  },
  {
   "cell_type": "code",
   "execution_count": null,
   "id": "b9952631",
   "metadata": {},
   "outputs": [],
   "source": [
    "# Census data set:\n",
    "census = pd.read_csv(\"data/census/adult.data\", header=None, delimiter=\", \", engine=\"python\")\n",
    "\n",
    "# The names of the columns:\n",
    "columns = [\"age\", \"workclass\", \"fnlwgt\", \"education\", \"education-num\", \"marital-status\", \"occupation\", \"relationship\", \"race\", \"sex\", \"capital-gain\", \"capital-loss\", \"hours-per-week\", \"native-country\", \"income\"]\n",
    "census.columns = columns\n",
    "\n",
    "# Dropping the rows with question marks:\n",
    "census = census.replace(\"?\", np.nan)\n",
    "census = census.dropna()\n",
    "\n",
    "# Manually fixing the types of the columns:\n",
    "census[\"workclass\"] = census[\"workclass\"].map({\n",
    "    \"Private\": 0, \"Self-emp-not-inc\": 1, \"Self-emp-inc\": 2, \"Federal-gov\": 3, \"Local-gov\": 4, \"State-gov\": 5, \"Without-pay\": 6, \"Never-worked\": 7\n",
    "})\n",
    "census[\"education\"] = census[\"education\"].map({\n",
    "    \"Bachelors\": 0, \"Some-college\": 1, \"11th\": 2, \"HS-grad\": 3, \"Prof-school\": 4, \"Assoc-acdm\": 5, \"Assoc-voc\": 6, \"9th\": 7, \"7th-8th\": 8, \"12th\": 9, \"Masters\": 10, \"1st-4th\": 11, \"10th\": 12, \"Doctorate\": 13, \"5th-6th\": 14, \"Preschool\": 15\n",
    "})\n",
    "census[\"marital-status\"] = census[\"marital-status\"].map({\n",
    "    \"Married-civ-spouse\": 0, \"Divorced\": 1, \"Never-married\": 2, \"Separated\": 3, \"Widowed\": 4, \"Married-spouse-absent\": 5, \"Married-AF-spouse\": 6\n",
    "})\n",
    "census[\"occupation\"] = census[\"occupation\"].map({\n",
    "    \"Tech-support\": 0, \"Craft-repair\": 1, \"Other-service\": 2, \"Sales\": 3, \"Exec-managerial\": 4, \"Prof-specialty\": 5, \"Handlers-cleaners\": 6, \"Machine-op-inspct\": 7, \"Adm-clerical\": 8, \"Farming-fishing\": 9, \"Transport-moving\": 10, \"Priv-house-serv\": 11, \"Protective-serv\": 12, \"Armed-Forces\": 13\n",
    "})\n",
    "census[\"relationship\"] = census[\"relationship\"].map({\n",
    "    \"Wife\": 0, \"Own-child\": 1, \"Husband\": 2, \"Not-in-family\": 3, \"Other-relative\": 4, \"Unmarried\": 5\n",
    "})\n",
    "census[\"race\"] = census[\"race\"].map({\n",
    "    \"White\": 0, \"Asian-Pac-Islander\": 1, \"Amer-Indian-Eskimo\": 2, \"Other\": 3, \"Black\": 4\n",
    "})\n",
    "census[\"sex\"] = census[\"sex\"].map({\"Female\": True, \"Male\": False})\n",
    "census[\"native-country\"] = census[\"native-country\"].map({\n",
    "    \"United-States\": 0, \"Cambodia\": 1, \"England\": 2, \"Puerto-Rico\": 3, \"Canada\": 4, \"Germany\": 5, \"Outlying-US(Guam-USVI-etc)\": 6, \"India\": 7, \"Japan\": 8, \"Greece\": 9, \"South\": 10, \"China\": 11, \"Cuba\": 12, \"Iran\": 13, \"Honduras\": 14, \"Philippines\": 15, \"Italy\": 16, \"Poland\": 17, \"Jamaica\": 18, \"Vietnam\": 19, \"Mexico\": 20, \"Portugal\": 21, \"Ireland\": 22, \"France\": 23, \"Dominican-Republic\": 24, \"Laos\": 25, \"Ecuador\": 26, \"Taiwan\": 27, \"Haiti\": 28, \"Columbia\": 29, \"Hungary\": 30, \"Guatemala\": 31, \"Nicaragua\": 32, \"Scotland\": 33, \"Thailand\": 34, \"Yugoslavia\": 35, \"El-Salvador\": 36, \"Trinadad&Tobago\": 37, \"Peru\": 38, \"Hong\": 39, \"Holand-Netherlands\": 40\n",
    "})\n",
    "census[\"income\"] = census[\"income\"].map({\"<=50K\": False, \">50K\": True})\n",
    "\n",
    "print(census.size)\n",
    "census.head()"
   ]
  },
  {
   "cell_type": "code",
   "execution_count": null,
   "id": "6653b4b1",
   "metadata": {},
   "outputs": [],
   "source": []
  }
 ],
 "metadata": {
  "kernelspec": {
   "display_name": "Python 3",
   "language": "python",
   "name": "python3"
  },
  "language_info": {
   "codemirror_mode": {
    "name": "ipython",
    "version": 3
   },
   "file_extension": ".py",
   "mimetype": "text/x-python",
   "name": "python",
   "nbconvert_exporter": "python",
   "pygments_lexer": "ipython3",
   "version": "3.10.12"
  }
 },
 "nbformat": 4,
 "nbformat_minor": 5
}
